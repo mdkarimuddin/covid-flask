{
 "cells": [
  {
   "cell_type": "markdown",
   "id": "a25746a0",
   "metadata": {},
   "source": [
    "# Flask App Demo (cleaned)\n",
    "This notebook demonstrates how the simple Flask app (app.py) can be used to send requests to the model. Author: Md Karim Uddin"
   ]
  },
  {
   "cell_type": "code",
   "execution_count": null,
   "id": "4bed02c0",
   "metadata": {},
   "outputs": [],
   "source": [
    "import requests\n",
    "from PIL import Image\n",
    "import io\n",
    "\n",
    "# example client usage\n",
    "def send_image(path):\n",
    "    url = 'http://127.0.0.1:5000/predict'\n",
    "    with open(path, 'rb') as f:\n",
    "        files = {'file': f}\n",
    "        r = requests.post(url, files=files)\n",
    "    return r.json()\n",
    "\n",
    "# send_image('path_to_sample.jpg')"
   ]
  }
 ],
 "metadata": {
  "language_info": {
   "name": "python"
  }
 },
 "nbformat": 4,
 "nbformat_minor": 5
}
